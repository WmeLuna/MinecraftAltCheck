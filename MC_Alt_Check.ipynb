{
  "nbformat": 4,
  "nbformat_minor": 0,
  "metadata": {
    "colab": {
      "name": "MC Alt Check",
      "provenance": [],
      "collapsed_sections": []
    },
    "kernelspec": {
      "name": "python3",
      "display_name": "Python 3"
    },
    "language_info": {
      "name": "python"
    }
  },
  "cells": [
    {
      "cell_type": "code",
      "metadata": {
        "id": "j7AQa3olOFNm",
        "cellView": "form"
      },
      "source": [
        "#@title { run: \"auto\" }\n",
        "#@markdown <center><h1>Minecraft Account checker<br /></h1></center>\n",
        "import IPython\n",
        "from IPython.display import Image\n",
        "from requests import post, get\n",
        "from json import dumps\n",
        "from random import choice\n",
        "acc = \"EMAIL:PASS\" #@param {type:\"string\"}\n",
        "apikey = \"53210137-a980-473a-9dd4-d0d792c2b6b5\" #@param [\"53210137-a980-473a-9dd4-d0d792c2b6b5\", \"04d121af-f4ad-4ee3-b30f-02ea3da896df\", \"3e0483cb-9d4b-4bac-90ad-c60540501a94\", \"ceafd0f6-14a8-4766-b1bf-e992c098a57f\", \"2f371602-f31b-4932-8bfa-f1cb7a9914dc\", \"7ec1c31c-e63e-413b-a049-0f3dc3c5094e\"] {allow-input: true}\n",
        "uuid = \"c06f8906-4c8a-4911-9c29-ea1dbd1aab82\"\n",
        "username = acc.split(\":\")[0]\n",
        "password = acc.split(\":\")[1]\n",
        "proxies = get(\"https://api.proxyscrape.com/?request=getproxies&proxytype=http&timeout=5000&anonymity=elite&ssl=yes\").text.split(\"\\r\\n\")\n",
        "proxy = choice(proxies)\n",
        "headers = {\"Content-Type\": \"application/json\"}\n",
        "body = dumps({\n",
        "'agent': {\n",
        "    'name': 'Minecraft',\n",
        "    'version': 1\n",
        "},\n",
        "'username': username,\n",
        "'password': password,\n",
        "'requestUser': 'true'\n",
        "  })\n",
        "r = post('https://authserver.mojang.com/authenticate',data=body,headers=headers,timeout=6, proxies={\"http\": choice(proxy)})\n",
        "if \"error\"in r.json():\n",
        "  print(\"[!] Doesnt work\")\n",
        "else:\n",
        "  uuid = r.json()[\"selectedProfile\"][\"id\"]\n",
        "  name = r.json()[\"selectedProfile\"][\"name\"]\n",
        "  print(f\"[!] Logged in as: {name}\")\n",
        "\n",
        "  #api calls\n",
        "  h = post(f\"https://api.hypixel.net/player?key={apikey}&name={name}\")\n",
        "  s = post(f\"https://optifine.net/capes/{name}.png\")\n",
        "  x = get(f\"https://api.slothpixel.me/api/players/{name}\",headers=headers,proxies={\"http\": choice(proxy)})\n",
        "  \n",
        "  #optifine cape detection\n",
        "  if \"Not found\" in s.text:\n",
        "    print(\"[!] Doesn't have an optifine cape.\")\n",
        "  else:\n",
        "    print(\"[!] Has an optifine cape.\")\n",
        "    \n",
        "  #displays hypixel rank\n",
        "  print(\"[!] On Hypixel this user has a rank of: \" + str(x.json()[\"rank\"]).replace(\"_PLUS\", \"+\"))\n",
        "\n",
        "  #hypixel ban detection\n",
        "  if not h.text.find(\"You have already looked up this name recently\") == -1:\n",
        "    print(\"[!] Hypixel check cannot be done right now for this account\")\n",
        "  elif h.text.find(\"displayname\") == -1:\n",
        "    print(\"[!] Player is banned on Hypixel\")\n",
        "  else:\n",
        "    print(\"[!] Player is not banned on Hypixel\")\n",
        "  \n",
        "\n",
        "\n",
        "   \n",
        "##Image(url=\"https://crafatar.com/renders/body/\" + uuid +\"?overlay\") \n",
        "Image(url=f\"https://www.mc-heads.net/body/{uuid}/right\", height=250)"
      ],
      "execution_count": null,
      "outputs": []
    }
  ]
}
